{
 "cells": [
  {
   "cell_type": "code",
   "execution_count": 67,
   "id": "d0fb9e38",
   "metadata": {},
   "outputs": [],
   "source": [
    "from sqlalchemy import create_engine, text"
   ]
  },
  {
   "cell_type": "code",
   "execution_count": 68,
   "id": "184213b5",
   "metadata": {},
   "outputs": [
    {
     "name": "stdout",
     "output_type": "stream",
     "text": [
      "['sales']\n"
     ]
    }
   ],
   "source": [
    "engine = create_engine(\"sqlite:///landon.sqlite\")\n",
    "with engine.connect() as conn:\n",
    "    res=conn.execute(text(\"SELECT name FROM sqlite_master\"))\n",
    "    tables = [table[0] for table in res.fetchall()]\n",
    "    print(tables)"
   ]
  },
  {
   "cell_type": "code",
   "execution_count": 69,
   "id": "246eeb76",
   "metadata": {},
   "outputs": [],
   "source": [
    "import pandas as pd"
   ]
  },
  {
   "cell_type": "code",
   "execution_count": 70,
   "id": "fd466936",
   "metadata": {},
   "outputs": [],
   "source": [
    "df_sales = pd.read_sql_table(\"sales\", con=engine.connect())"
   ]
  },
  {
   "cell_type": "code",
   "execution_count": 71,
   "id": "57317e8d",
   "metadata": {},
   "outputs": [
    {
     "data": {
      "text/html": [
       "<div>\n",
       "<style scoped>\n",
       "    .dataframe tbody tr th:only-of-type {\n",
       "        vertical-align: middle;\n",
       "    }\n",
       "\n",
       "    .dataframe tbody tr th {\n",
       "        vertical-align: top;\n",
       "    }\n",
       "\n",
       "    .dataframe thead th {\n",
       "        text-align: right;\n",
       "    }\n",
       "</style>\n",
       "<table border=\"1\" class=\"dataframe\">\n",
       "  <thead>\n",
       "    <tr style=\"text-align: right;\">\n",
       "      <th></th>\n",
       "      <th>order_id</th>\n",
       "      <th>property_id</th>\n",
       "      <th>property_city</th>\n",
       "      <th>property_state</th>\n",
       "      <th>product_id</th>\n",
       "      <th>product_category</th>\n",
       "      <th>product_name</th>\n",
       "      <th>quantity</th>\n",
       "      <th>product_price</th>\n",
       "      <th>order_total</th>\n",
       "    </tr>\n",
       "  </thead>\n",
       "  <tbody>\n",
       "    <tr>\n",
       "      <th>0</th>\n",
       "      <td>1</td>\n",
       "      <td>17</td>\n",
       "      <td>Las Vegas</td>\n",
       "      <td>Nevada</td>\n",
       "      <td>41</td>\n",
       "      <td>Furnishings</td>\n",
       "      <td>Office Chair</td>\n",
       "      <td>1</td>\n",
       "      <td>85.0</td>\n",
       "      <td>85.0</td>\n",
       "    </tr>\n",
       "    <tr>\n",
       "      <th>1</th>\n",
       "      <td>2</td>\n",
       "      <td>15</td>\n",
       "      <td>Chicago</td>\n",
       "      <td>Illinois</td>\n",
       "      <td>54</td>\n",
       "      <td>Furnishings</td>\n",
       "      <td>Chest of Drawers</td>\n",
       "      <td>2</td>\n",
       "      <td>150.0</td>\n",
       "      <td>300.0</td>\n",
       "    </tr>\n",
       "    <tr>\n",
       "      <th>2</th>\n",
       "      <td>3</td>\n",
       "      <td>5</td>\n",
       "      <td>Kansas City</td>\n",
       "      <td>Missouri</td>\n",
       "      <td>71</td>\n",
       "      <td>Maintenance</td>\n",
       "      <td>Hammer</td>\n",
       "      <td>2</td>\n",
       "      <td>17.0</td>\n",
       "      <td>34.0</td>\n",
       "    </tr>\n",
       "    <tr>\n",
       "      <th>3</th>\n",
       "      <td>4</td>\n",
       "      <td>19</td>\n",
       "      <td>Los Angeles</td>\n",
       "      <td>California</td>\n",
       "      <td>3</td>\n",
       "      <td>Housekeeping</td>\n",
       "      <td>Washcloth</td>\n",
       "      <td>2</td>\n",
       "      <td>3.0</td>\n",
       "      <td>6.0</td>\n",
       "    </tr>\n",
       "    <tr>\n",
       "      <th>4</th>\n",
       "      <td>5</td>\n",
       "      <td>12</td>\n",
       "      <td>Dallas</td>\n",
       "      <td>Texas</td>\n",
       "      <td>45</td>\n",
       "      <td>Furnishings</td>\n",
       "      <td>Computer Desk</td>\n",
       "      <td>3</td>\n",
       "      <td>102.0</td>\n",
       "      <td>306.0</td>\n",
       "    </tr>\n",
       "    <tr>\n",
       "      <th>...</th>\n",
       "      <td>...</td>\n",
       "      <td>...</td>\n",
       "      <td>...</td>\n",
       "      <td>...</td>\n",
       "      <td>...</td>\n",
       "      <td>...</td>\n",
       "      <td>...</td>\n",
       "      <td>...</td>\n",
       "      <td>...</td>\n",
       "      <td>...</td>\n",
       "    </tr>\n",
       "    <tr>\n",
       "      <th>4995</th>\n",
       "      <td>4996</td>\n",
       "      <td>3</td>\n",
       "      <td>Portland</td>\n",
       "      <td>Oregon</td>\n",
       "      <td>47</td>\n",
       "      <td>Furnishings</td>\n",
       "      <td>Swivel Chair</td>\n",
       "      <td>2</td>\n",
       "      <td>75.0</td>\n",
       "      <td>150.0</td>\n",
       "    </tr>\n",
       "    <tr>\n",
       "      <th>4996</th>\n",
       "      <td>4997</td>\n",
       "      <td>12</td>\n",
       "      <td>Dallas</td>\n",
       "      <td>Texas</td>\n",
       "      <td>57</td>\n",
       "      <td>Furnishings</td>\n",
       "      <td>Wireless Router</td>\n",
       "      <td>1</td>\n",
       "      <td>70.0</td>\n",
       "      <td>70.0</td>\n",
       "    </tr>\n",
       "    <tr>\n",
       "      <th>4997</th>\n",
       "      <td>4998</td>\n",
       "      <td>7</td>\n",
       "      <td>Boston</td>\n",
       "      <td>Massachusetts</td>\n",
       "      <td>77</td>\n",
       "      <td>Public Areas</td>\n",
       "      <td>Large Area Rug</td>\n",
       "      <td>1</td>\n",
       "      <td>40.0</td>\n",
       "      <td>40.0</td>\n",
       "    </tr>\n",
       "    <tr>\n",
       "      <th>4998</th>\n",
       "      <td>4999</td>\n",
       "      <td>17</td>\n",
       "      <td>Las Vegas</td>\n",
       "      <td>Nevada</td>\n",
       "      <td>57</td>\n",
       "      <td>Furnishings</td>\n",
       "      <td>Wireless Router</td>\n",
       "      <td>1</td>\n",
       "      <td>70.0</td>\n",
       "      <td>70.0</td>\n",
       "    </tr>\n",
       "    <tr>\n",
       "      <th>4999</th>\n",
       "      <td>5000</td>\n",
       "      <td>1</td>\n",
       "      <td>New York</td>\n",
       "      <td>New York</td>\n",
       "      <td>9</td>\n",
       "      <td>Housekeeping</td>\n",
       "      <td>Tissues</td>\n",
       "      <td>2</td>\n",
       "      <td>14.0</td>\n",
       "      <td>28.0</td>\n",
       "    </tr>\n",
       "  </tbody>\n",
       "</table>\n",
       "<p>5000 rows × 10 columns</p>\n",
       "</div>"
      ],
      "text/plain": [
       "      order_id  property_id property_city property_state  product_id  \\\n",
       "0            1           17     Las Vegas         Nevada          41   \n",
       "1            2           15       Chicago       Illinois          54   \n",
       "2            3            5   Kansas City       Missouri          71   \n",
       "3            4           19   Los Angeles     California           3   \n",
       "4            5           12        Dallas          Texas          45   \n",
       "...        ...          ...           ...            ...         ...   \n",
       "4995      4996            3      Portland         Oregon          47   \n",
       "4996      4997           12        Dallas          Texas          57   \n",
       "4997      4998            7        Boston  Massachusetts          77   \n",
       "4998      4999           17     Las Vegas         Nevada          57   \n",
       "4999      5000            1      New York       New York           9   \n",
       "\n",
       "     product_category      product_name  quantity  product_price  order_total  \n",
       "0         Furnishings      Office Chair         1           85.0         85.0  \n",
       "1         Furnishings  Chest of Drawers         2          150.0        300.0  \n",
       "2         Maintenance            Hammer         2           17.0         34.0  \n",
       "3        Housekeeping         Washcloth         2            3.0          6.0  \n",
       "4         Furnishings     Computer Desk         3          102.0        306.0  \n",
       "...               ...               ...       ...            ...          ...  \n",
       "4995      Furnishings      Swivel Chair         2           75.0        150.0  \n",
       "4996      Furnishings   Wireless Router         1           70.0         70.0  \n",
       "4997     Public Areas    Large Area Rug         1           40.0         40.0  \n",
       "4998      Furnishings   Wireless Router         1           70.0         70.0  \n",
       "4999     Housekeeping           Tissues         2           14.0         28.0  \n",
       "\n",
       "[5000 rows x 10 columns]"
      ]
     },
     "execution_count": 71,
     "metadata": {},
     "output_type": "execute_result"
    }
   ],
   "source": [
    "df_sales"
   ]
  },
  {
   "cell_type": "code",
   "execution_count": 72,
   "id": "0191804c",
   "metadata": {},
   "outputs": [],
   "source": [
    "import matplotlib.pyplot as plt"
   ]
  },
  {
   "cell_type": "code",
   "execution_count": 76,
   "id": "49ca39a0",
   "metadata": {},
   "outputs": [
    {
     "data": {
      "text/plain": [
       "product_category\n",
       "Office Supplies     664\n",
       "Maintenance         804\n",
       "Housekeeping       1063\n",
       "Public Areas       1101\n",
       "Furnishings        1368\n",
       "Name: count, dtype: int64"
      ]
     },
     "execution_count": 76,
     "metadata": {},
     "output_type": "execute_result"
    }
   ],
   "source": [
    "sorted_df = df_sales['product_category'].value_counts().sort_values()\n",
    "sorted_df"
   ]
  },
  {
   "cell_type": "code",
   "execution_count": 77,
   "id": "b5a691a1",
   "metadata": {},
   "outputs": [
    {
     "data": {
      "text/plain": [
       "<Axes: ylabel='count'>"
      ]
     },
     "execution_count": 77,
     "metadata": {},
     "output_type": "execute_result"
    },
    {
     "data": {
      "image/png": "[encoded data removed]",
      "text/plain": [
       "<Figure size 640x480 with 1 Axes>"
      ]
     },
     "metadata": {},
     "output_type": "display_data"
    }
   ],
   "source": [
    "colors = ['lightblue', 'blue', 'darkblue', 'lightcoral', 'lightskyblue']\n",
    "\n",
    "sorted_df.plot(kind='pie', colors=colors)"
   ]
  }
 ],
 "metadata": {
  "kernelspec": {
   "display_name": "Python 3 (ipykernel)",
   "language": "python",
   "name": "python3"
  },
  "language_info": {
   "codemirror_mode": {
    "name": "ipython",
    "version": 3
   },
   "file_extension": ".py",
   "mimetype": "text/x-python",
   "name": "python",
   "nbconvert_exporter": "python",
   "pygments_lexer": "ipython3",
   "version": "3.9.6"
  }
 },
 "nbformat": 4,
 "nbformat_minor": 5
}
